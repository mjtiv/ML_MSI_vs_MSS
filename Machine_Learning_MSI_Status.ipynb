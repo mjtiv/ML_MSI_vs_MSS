{
 "cells": [
  {
   "cell_type": "markdown",
   "id": "918bb2db",
   "metadata": {},
   "source": [
    "# Program Runs Machine Learning to Identify Best Feature for MSI Status"
   ]
  },
  {
   "cell_type": "code",
   "execution_count": 55,
   "id": "dcd511ab",
   "metadata": {},
   "outputs": [],
   "source": [
    "import sys\n",
    "import os\n",
    "import pandas as pd\n",
    "import numpy as np\n",
    "import matplotlib.pyplot as plt\n",
    "from scipy import stats\n",
    "from scipy.stats import randint\n",
    "\n",
    "# SciKit Learn Packages\n",
    "from sklearn.preprocessing import StandardScaler\n",
    "from sklearn.decomposition import PCA\n",
    "from sklearn.ensemble import RandomForestClassifier\n",
    "from sklearn.metrics import accuracy_score, confusion_matrix, precision_score, recall_score, ConfusionMatrixDisplay\n",
    "from sklearn.model_selection import RandomizedSearchCV, train_test_split\n",
    "from sklearn.model_selection import cross_validate\n",
    "from sklearn.linear_model import LogisticRegression\n",
    "from sklearn.model_selection import StratifiedKFold\n",
    "from sklearn.svm import SVC\n",
    "from sklearn.model_selection import GridSearchCV\n",
    "from sklearn.metrics import roc_curve, roc_auc_score"
   ]
  },
  {
   "cell_type": "markdown",
   "id": "2fa61fc0",
   "metadata": {},
   "source": [
    "# Load the Dataframes"
   ]
  },
  {
   "cell_type": "code",
   "execution_count": 56,
   "id": "ba9ca209",
   "metadata": {},
   "outputs": [],
   "source": [
    "crispr_dataframe = pd.read_csv('CRISPRGeneEffect.csv')\n",
    "\n",
    "sample_info = pd.read_csv('model_list_20240110.csv')"
   ]
  },
  {
   "cell_type": "markdown",
   "id": "8d729f1a",
   "metadata": {},
   "source": [
    "# Examine Sample Info Dataframe"
   ]
  },
  {
   "cell_type": "code",
   "execution_count": 57,
   "id": "29611768",
   "metadata": {},
   "outputs": [
    {
     "data": {
      "text/html": [
       "<div>\n",
       "<style scoped>\n",
       "    .dataframe tbody tr th:only-of-type {\n",
       "        vertical-align: middle;\n",
       "    }\n",
       "\n",
       "    .dataframe tbody tr th {\n",
       "        vertical-align: top;\n",
       "    }\n",
       "\n",
       "    .dataframe thead th {\n",
       "        text-align: right;\n",
       "    }\n",
       "</style>\n",
       "<table border=\"1\" class=\"dataframe\">\n",
       "  <thead>\n",
       "    <tr style=\"text-align: right;\">\n",
       "      <th></th>\n",
       "      <th>model_id</th>\n",
       "      <th>sample_id</th>\n",
       "      <th>patient_id</th>\n",
       "      <th>parent_id</th>\n",
       "      <th>model_name</th>\n",
       "      <th>synonyms</th>\n",
       "      <th>tissue</th>\n",
       "      <th>cancer_type</th>\n",
       "      <th>cancer_type_ncit_id</th>\n",
       "      <th>tissue_status</th>\n",
       "      <th>...</th>\n",
       "      <th>msh6_expression_by_ihc</th>\n",
       "      <th>braf_mutation_identified</th>\n",
       "      <th>braf_expression_by_ihc</th>\n",
       "      <th>pik3ca_mutation_identified</th>\n",
       "      <th>pten_expression_by_ihc</th>\n",
       "      <th>pten_mutation_identified</th>\n",
       "      <th>kras_mutation_identified</th>\n",
       "      <th>mismatch_repair_status</th>\n",
       "      <th>preoperative_ce_alevel</th>\n",
       "      <th>crispr_ko_data</th>\n",
       "    </tr>\n",
       "  </thead>\n",
       "  <tbody>\n",
       "    <tr>\n",
       "      <th>0</th>\n",
       "      <td>SIDM01774</td>\n",
       "      <td>SIDS01659</td>\n",
       "      <td>SIDP01578</td>\n",
       "      <td>NaN</td>\n",
       "      <td>PK-59</td>\n",
       "      <td>NaN</td>\n",
       "      <td>Pancreas</td>\n",
       "      <td>Pancreatic Carcinoma</td>\n",
       "      <td>C3850</td>\n",
       "      <td>Metastasis</td>\n",
       "      <td>...</td>\n",
       "      <td>NaN</td>\n",
       "      <td>NaN</td>\n",
       "      <td>NaN</td>\n",
       "      <td>NaN</td>\n",
       "      <td>NaN</td>\n",
       "      <td>NaN</td>\n",
       "      <td>NaN</td>\n",
       "      <td>NaN</td>\n",
       "      <td>NaN</td>\n",
       "      <td>False</td>\n",
       "    </tr>\n",
       "    <tr>\n",
       "      <th>1</th>\n",
       "      <td>SIDM00192</td>\n",
       "      <td>SIDS00612</td>\n",
       "      <td>SIDP00541</td>\n",
       "      <td>NaN</td>\n",
       "      <td>SNU-1033</td>\n",
       "      <td>NaN</td>\n",
       "      <td>Large Intestine</td>\n",
       "      <td>Colorectal Carcinoma</td>\n",
       "      <td>C9383</td>\n",
       "      <td>Tumour</td>\n",
       "      <td>...</td>\n",
       "      <td>NaN</td>\n",
       "      <td>NaN</td>\n",
       "      <td>NaN</td>\n",
       "      <td>NaN</td>\n",
       "      <td>NaN</td>\n",
       "      <td>NaN</td>\n",
       "      <td>NaN</td>\n",
       "      <td>NaN</td>\n",
       "      <td>NaN</td>\n",
       "      <td>True</td>\n",
       "    </tr>\n",
       "    <tr>\n",
       "      <th>2</th>\n",
       "      <td>SIDM01447</td>\n",
       "      <td>SIDS01466</td>\n",
       "      <td>SIDP01347</td>\n",
       "      <td>NaN</td>\n",
       "      <td>SNU-466</td>\n",
       "      <td>NaN</td>\n",
       "      <td>Central Nervous System</td>\n",
       "      <td>Glioblastoma</td>\n",
       "      <td>C3058</td>\n",
       "      <td>Tumour</td>\n",
       "      <td>...</td>\n",
       "      <td>NaN</td>\n",
       "      <td>NaN</td>\n",
       "      <td>NaN</td>\n",
       "      <td>NaN</td>\n",
       "      <td>NaN</td>\n",
       "      <td>NaN</td>\n",
       "      <td>NaN</td>\n",
       "      <td>NaN</td>\n",
       "      <td>NaN</td>\n",
       "      <td>False</td>\n",
       "    </tr>\n",
       "    <tr>\n",
       "      <th>3</th>\n",
       "      <td>SIDM01554</td>\n",
       "      <td>SIDS01363</td>\n",
       "      <td>SIDP01247</td>\n",
       "      <td>NaN</td>\n",
       "      <td>IST-MES-2</td>\n",
       "      <td>NaN</td>\n",
       "      <td>Lung</td>\n",
       "      <td>Mesothelioma</td>\n",
       "      <td>C45662</td>\n",
       "      <td>Unknown</td>\n",
       "      <td>...</td>\n",
       "      <td>NaN</td>\n",
       "      <td>NaN</td>\n",
       "      <td>NaN</td>\n",
       "      <td>NaN</td>\n",
       "      <td>NaN</td>\n",
       "      <td>NaN</td>\n",
       "      <td>NaN</td>\n",
       "      <td>NaN</td>\n",
       "      <td>NaN</td>\n",
       "      <td>True</td>\n",
       "    </tr>\n",
       "    <tr>\n",
       "      <th>4</th>\n",
       "      <td>SIDM01689</td>\n",
       "      <td>SIDS01631</td>\n",
       "      <td>SIDP01557</td>\n",
       "      <td>NaN</td>\n",
       "      <td>MUTZ-5</td>\n",
       "      <td>NaN</td>\n",
       "      <td>Haematopoietic and Lymphoid</td>\n",
       "      <td>B-Lymphoblastic Leukemia</td>\n",
       "      <td>C8644</td>\n",
       "      <td>Tumour</td>\n",
       "      <td>...</td>\n",
       "      <td>NaN</td>\n",
       "      <td>NaN</td>\n",
       "      <td>NaN</td>\n",
       "      <td>NaN</td>\n",
       "      <td>NaN</td>\n",
       "      <td>NaN</td>\n",
       "      <td>NaN</td>\n",
       "      <td>NaN</td>\n",
       "      <td>NaN</td>\n",
       "      <td>False</td>\n",
       "    </tr>\n",
       "  </tbody>\n",
       "</table>\n",
       "<p>5 rows × 97 columns</p>\n",
       "</div>"
      ],
      "text/plain": [
       "    model_id  sample_id patient_id parent_id model_name synonyms  \\\n",
       "0  SIDM01774  SIDS01659  SIDP01578       NaN      PK-59      NaN   \n",
       "1  SIDM00192  SIDS00612  SIDP00541       NaN   SNU-1033      NaN   \n",
       "2  SIDM01447  SIDS01466  SIDP01347       NaN    SNU-466      NaN   \n",
       "3  SIDM01554  SIDS01363  SIDP01247       NaN  IST-MES-2      NaN   \n",
       "4  SIDM01689  SIDS01631  SIDP01557       NaN     MUTZ-5      NaN   \n",
       "\n",
       "                        tissue               cancer_type cancer_type_ncit_id  \\\n",
       "0                     Pancreas      Pancreatic Carcinoma               C3850   \n",
       "1              Large Intestine      Colorectal Carcinoma               C9383   \n",
       "2       Central Nervous System              Glioblastoma               C3058   \n",
       "3                         Lung              Mesothelioma              C45662   \n",
       "4  Haematopoietic and Lymphoid  B-Lymphoblastic Leukemia               C8644   \n",
       "\n",
       "  tissue_status  ... msh6_expression_by_ihc braf_mutation_identified  \\\n",
       "0    Metastasis  ...                    NaN                      NaN   \n",
       "1        Tumour  ...                    NaN                      NaN   \n",
       "2        Tumour  ...                    NaN                      NaN   \n",
       "3       Unknown  ...                    NaN                      NaN   \n",
       "4        Tumour  ...                    NaN                      NaN   \n",
       "\n",
       "  braf_expression_by_ihc pik3ca_mutation_identified pten_expression_by_ihc  \\\n",
       "0                    NaN                        NaN                    NaN   \n",
       "1                    NaN                        NaN                    NaN   \n",
       "2                    NaN                        NaN                    NaN   \n",
       "3                    NaN                        NaN                    NaN   \n",
       "4                    NaN                        NaN                    NaN   \n",
       "\n",
       "   pten_mutation_identified  kras_mutation_identified  mismatch_repair_status  \\\n",
       "0                       NaN                       NaN                     NaN   \n",
       "1                       NaN                       NaN                     NaN   \n",
       "2                       NaN                       NaN                     NaN   \n",
       "3                       NaN                       NaN                     NaN   \n",
       "4                       NaN                       NaN                     NaN   \n",
       "\n",
       "  preoperative_ce_alevel  crispr_ko_data  \n",
       "0                    NaN           False  \n",
       "1                    NaN            True  \n",
       "2                    NaN           False  \n",
       "3                    NaN            True  \n",
       "4                    NaN           False  \n",
       "\n",
       "[5 rows x 97 columns]"
      ]
     },
     "execution_count": 57,
     "metadata": {},
     "output_type": "execute_result"
    }
   ],
   "source": [
    "sample_info.head(5)"
   ]
  },
  {
   "cell_type": "markdown",
   "id": "dbdd64de",
   "metadata": {},
   "source": [
    "# Filter the Sample File for Specific Columns"
   ]
  },
  {
   "cell_type": "code",
   "execution_count": 58,
   "id": "028bc4c0",
   "metadata": {
    "scrolled": true
   },
   "outputs": [
    {
     "name": "stdout",
     "output_type": "stream",
     "text": [
      "(2155, 3)\n",
      "\n"
     ]
    },
    {
     "data": {
      "text/html": [
       "<div>\n",
       "<style scoped>\n",
       "    .dataframe tbody tr th:only-of-type {\n",
       "        vertical-align: middle;\n",
       "    }\n",
       "\n",
       "    .dataframe tbody tr th {\n",
       "        vertical-align: top;\n",
       "    }\n",
       "\n",
       "    .dataframe thead th {\n",
       "        text-align: right;\n",
       "    }\n",
       "</style>\n",
       "<table border=\"1\" class=\"dataframe\">\n",
       "  <thead>\n",
       "    <tr style=\"text-align: right;\">\n",
       "      <th></th>\n",
       "      <th>BROAD_ID</th>\n",
       "      <th>cancer_type</th>\n",
       "      <th>msi_status</th>\n",
       "    </tr>\n",
       "  </thead>\n",
       "  <tbody>\n",
       "    <tr>\n",
       "      <th>0</th>\n",
       "      <td>ACH-000205</td>\n",
       "      <td>Pancreatic Carcinoma</td>\n",
       "      <td>NaN</td>\n",
       "    </tr>\n",
       "    <tr>\n",
       "      <th>1</th>\n",
       "      <td>ACH-000286</td>\n",
       "      <td>Colorectal Carcinoma</td>\n",
       "      <td>NaN</td>\n",
       "    </tr>\n",
       "    <tr>\n",
       "      <th>2</th>\n",
       "      <td>ACH-000289</td>\n",
       "      <td>Glioblastoma</td>\n",
       "      <td>NaN</td>\n",
       "    </tr>\n",
       "    <tr>\n",
       "      <th>3</th>\n",
       "      <td>ACH-000331</td>\n",
       "      <td>Mesothelioma</td>\n",
       "      <td>NaN</td>\n",
       "    </tr>\n",
       "    <tr>\n",
       "      <th>4</th>\n",
       "      <td>ACH-000492</td>\n",
       "      <td>B-Lymphoblastic Leukemia</td>\n",
       "      <td>NaN</td>\n",
       "    </tr>\n",
       "  </tbody>\n",
       "</table>\n",
       "</div>"
      ],
      "text/plain": [
       "     BROAD_ID               cancer_type msi_status\n",
       "0  ACH-000205      Pancreatic Carcinoma        NaN\n",
       "1  ACH-000286      Colorectal Carcinoma        NaN\n",
       "2  ACH-000289              Glioblastoma        NaN\n",
       "3  ACH-000331              Mesothelioma        NaN\n",
       "4  ACH-000492  B-Lymphoblastic Leukemia        NaN"
      ]
     },
     "execution_count": 58,
     "metadata": {},
     "output_type": "execute_result"
    }
   ],
   "source": [
    "filt_sample_info = sample_info[['BROAD_ID', 'cancer_type', 'msi_status']]\n",
    "print (filt_sample_info.shape)\n",
    "print (\"\")\n",
    "filt_sample_info.head(5)"
   ]
  },
  {
   "cell_type": "markdown",
   "id": "bc8c7f78",
   "metadata": {},
   "source": [
    "# Drop the NaNs from the Dataframe"
   ]
  },
  {
   "cell_type": "code",
   "execution_count": 59,
   "id": "1df44f27",
   "metadata": {
    "scrolled": true
   },
   "outputs": [
    {
     "name": "stdout",
     "output_type": "stream",
     "text": [
      "(1032, 3)\n"
     ]
    },
    {
     "data": {
      "text/html": [
       "<div>\n",
       "<style scoped>\n",
       "    .dataframe tbody tr th:only-of-type {\n",
       "        vertical-align: middle;\n",
       "    }\n",
       "\n",
       "    .dataframe tbody tr th {\n",
       "        vertical-align: top;\n",
       "    }\n",
       "\n",
       "    .dataframe thead th {\n",
       "        text-align: right;\n",
       "    }\n",
       "</style>\n",
       "<table border=\"1\" class=\"dataframe\">\n",
       "  <thead>\n",
       "    <tr style=\"text-align: right;\">\n",
       "      <th></th>\n",
       "      <th>BROAD_ID</th>\n",
       "      <th>cancer_type</th>\n",
       "      <th>msi_status</th>\n",
       "    </tr>\n",
       "  </thead>\n",
       "  <tbody>\n",
       "    <tr>\n",
       "      <th>10</th>\n",
       "      <td>ACH-000532</td>\n",
       "      <td>Colorectal Carcinoma</td>\n",
       "      <td>MSS</td>\n",
       "    </tr>\n",
       "    <tr>\n",
       "      <th>11</th>\n",
       "      <td>ACH-000402</td>\n",
       "      <td>Burkitt's Lymphoma</td>\n",
       "      <td>MSS</td>\n",
       "    </tr>\n",
       "    <tr>\n",
       "      <th>14</th>\n",
       "      <td>ACH-000999</td>\n",
       "      <td>Colorectal Carcinoma</td>\n",
       "      <td>MSI</td>\n",
       "    </tr>\n",
       "    <tr>\n",
       "      <th>15</th>\n",
       "      <td>ACH-000558</td>\n",
       "      <td>Glioblastoma</td>\n",
       "      <td>MSS</td>\n",
       "    </tr>\n",
       "    <tr>\n",
       "      <th>16</th>\n",
       "      <td>ACH-000838</td>\n",
       "      <td>Plasma Cell Myeloma</td>\n",
       "      <td>MSS</td>\n",
       "    </tr>\n",
       "  </tbody>\n",
       "</table>\n",
       "</div>"
      ],
      "text/plain": [
       "      BROAD_ID           cancer_type msi_status\n",
       "10  ACH-000532  Colorectal Carcinoma        MSS\n",
       "11  ACH-000402    Burkitt's Lymphoma        MSS\n",
       "14  ACH-000999  Colorectal Carcinoma        MSI\n",
       "15  ACH-000558          Glioblastoma        MSS\n",
       "16  ACH-000838   Plasma Cell Myeloma        MSS"
      ]
     },
     "execution_count": 59,
     "metadata": {},
     "output_type": "execute_result"
    }
   ],
   "source": [
    "filt_sample_info = filt_sample_info.dropna()\n",
    "print (filt_sample_info.shape)\n",
    "filt_sample_info.head(5)"
   ]
  },
  {
   "cell_type": "markdown",
   "id": "ccf55385",
   "metadata": {},
   "source": [
    "Note Lost about Half the Samples--- We Need Both ACH IDs and MSS-MSI Status for ML--- "
   ]
  },
  {
   "cell_type": "markdown",
   "id": "e15e988f",
   "metadata": {},
   "source": [
    "# Get the Counts from the Column"
   ]
  },
  {
   "cell_type": "code",
   "execution_count": 60,
   "id": "46e57338",
   "metadata": {
    "scrolled": true
   },
   "outputs": [
    {
     "data": {
      "text/plain": [
       "MSS    957\n",
       "MSI     75\n",
       "Name: msi_status, dtype: int64"
      ]
     },
     "execution_count": 60,
     "metadata": {},
     "output_type": "execute_result"
    }
   ],
   "source": [
    "filt_sample_info['msi_status'].value_counts()"
   ]
  },
  {
   "cell_type": "markdown",
   "id": "9b7022fb",
   "metadata": {},
   "source": [
    "# Create a Duplicate Column for Machine Learning (MSS vs MSI)"
   ]
  },
  {
   "cell_type": "code",
   "execution_count": 61,
   "id": "170f92f5",
   "metadata": {
    "scrolled": true
   },
   "outputs": [
    {
     "data": {
      "text/html": [
       "<div>\n",
       "<style scoped>\n",
       "    .dataframe tbody tr th:only-of-type {\n",
       "        vertical-align: middle;\n",
       "    }\n",
       "\n",
       "    .dataframe tbody tr th {\n",
       "        vertical-align: top;\n",
       "    }\n",
       "\n",
       "    .dataframe thead th {\n",
       "        text-align: right;\n",
       "    }\n",
       "</style>\n",
       "<table border=\"1\" class=\"dataframe\">\n",
       "  <thead>\n",
       "    <tr style=\"text-align: right;\">\n",
       "      <th></th>\n",
       "      <th>BROAD_ID</th>\n",
       "      <th>cancer_type</th>\n",
       "      <th>msi_status</th>\n",
       "      <th>Labels</th>\n",
       "    </tr>\n",
       "  </thead>\n",
       "  <tbody>\n",
       "    <tr>\n",
       "      <th>10</th>\n",
       "      <td>ACH-000532</td>\n",
       "      <td>Colorectal Carcinoma</td>\n",
       "      <td>MSS</td>\n",
       "      <td>MSS</td>\n",
       "    </tr>\n",
       "    <tr>\n",
       "      <th>11</th>\n",
       "      <td>ACH-000402</td>\n",
       "      <td>Burkitt's Lymphoma</td>\n",
       "      <td>MSS</td>\n",
       "      <td>MSS</td>\n",
       "    </tr>\n",
       "    <tr>\n",
       "      <th>14</th>\n",
       "      <td>ACH-000999</td>\n",
       "      <td>Colorectal Carcinoma</td>\n",
       "      <td>MSI</td>\n",
       "      <td>MSI</td>\n",
       "    </tr>\n",
       "    <tr>\n",
       "      <th>15</th>\n",
       "      <td>ACH-000558</td>\n",
       "      <td>Glioblastoma</td>\n",
       "      <td>MSS</td>\n",
       "      <td>MSS</td>\n",
       "    </tr>\n",
       "    <tr>\n",
       "      <th>16</th>\n",
       "      <td>ACH-000838</td>\n",
       "      <td>Plasma Cell Myeloma</td>\n",
       "      <td>MSS</td>\n",
       "      <td>MSS</td>\n",
       "    </tr>\n",
       "  </tbody>\n",
       "</table>\n",
       "</div>"
      ],
      "text/plain": [
       "      BROAD_ID           cancer_type msi_status Labels\n",
       "10  ACH-000532  Colorectal Carcinoma        MSS    MSS\n",
       "11  ACH-000402    Burkitt's Lymphoma        MSS    MSS\n",
       "14  ACH-000999  Colorectal Carcinoma        MSI    MSI\n",
       "15  ACH-000558          Glioblastoma        MSS    MSS\n",
       "16  ACH-000838   Plasma Cell Myeloma        MSS    MSS"
      ]
     },
     "execution_count": 61,
     "metadata": {},
     "output_type": "execute_result"
    }
   ],
   "source": [
    "filt_sample_info['Labels'] = filt_sample_info.loc[:, 'msi_status']\n",
    "filt_sample_info.head(5)"
   ]
  },
  {
   "cell_type": "markdown",
   "id": "8aa83eaf",
   "metadata": {},
   "source": [
    "# Re-Label the MSI Status to Zero and One"
   ]
  },
  {
   "cell_type": "code",
   "execution_count": 62,
   "id": "fb407195",
   "metadata": {
    "scrolled": true
   },
   "outputs": [
    {
     "data": {
      "text/html": [
       "<div>\n",
       "<style scoped>\n",
       "    .dataframe tbody tr th:only-of-type {\n",
       "        vertical-align: middle;\n",
       "    }\n",
       "\n",
       "    .dataframe tbody tr th {\n",
       "        vertical-align: top;\n",
       "    }\n",
       "\n",
       "    .dataframe thead th {\n",
       "        text-align: right;\n",
       "    }\n",
       "</style>\n",
       "<table border=\"1\" class=\"dataframe\">\n",
       "  <thead>\n",
       "    <tr style=\"text-align: right;\">\n",
       "      <th></th>\n",
       "      <th>BROAD_ID</th>\n",
       "      <th>cancer_type</th>\n",
       "      <th>msi_status</th>\n",
       "      <th>Labels</th>\n",
       "    </tr>\n",
       "  </thead>\n",
       "  <tbody>\n",
       "    <tr>\n",
       "      <th>10</th>\n",
       "      <td>ACH-000532</td>\n",
       "      <td>Colorectal Carcinoma</td>\n",
       "      <td>MSS</td>\n",
       "      <td>0</td>\n",
       "    </tr>\n",
       "    <tr>\n",
       "      <th>11</th>\n",
       "      <td>ACH-000402</td>\n",
       "      <td>Burkitt's Lymphoma</td>\n",
       "      <td>MSS</td>\n",
       "      <td>0</td>\n",
       "    </tr>\n",
       "    <tr>\n",
       "      <th>14</th>\n",
       "      <td>ACH-000999</td>\n",
       "      <td>Colorectal Carcinoma</td>\n",
       "      <td>MSI</td>\n",
       "      <td>1</td>\n",
       "    </tr>\n",
       "    <tr>\n",
       "      <th>15</th>\n",
       "      <td>ACH-000558</td>\n",
       "      <td>Glioblastoma</td>\n",
       "      <td>MSS</td>\n",
       "      <td>0</td>\n",
       "    </tr>\n",
       "    <tr>\n",
       "      <th>16</th>\n",
       "      <td>ACH-000838</td>\n",
       "      <td>Plasma Cell Myeloma</td>\n",
       "      <td>MSS</td>\n",
       "      <td>0</td>\n",
       "    </tr>\n",
       "  </tbody>\n",
       "</table>\n",
       "</div>"
      ],
      "text/plain": [
       "      BROAD_ID           cancer_type msi_status  Labels\n",
       "10  ACH-000532  Colorectal Carcinoma        MSS       0\n",
       "11  ACH-000402    Burkitt's Lymphoma        MSS       0\n",
       "14  ACH-000999  Colorectal Carcinoma        MSI       1\n",
       "15  ACH-000558          Glioblastoma        MSS       0\n",
       "16  ACH-000838   Plasma Cell Myeloma        MSS       0"
      ]
     },
     "execution_count": 62,
     "metadata": {},
     "output_type": "execute_result"
    }
   ],
   "source": [
    "filt_sample_info[\"Labels\"].replace({\"MSS\": 0, \"MSI\": 1}, inplace=True)\n",
    "filt_sample_info.head(5)"
   ]
  },
  {
   "cell_type": "markdown",
   "id": "4b0090fd",
   "metadata": {},
   "source": [
    "# Examine CRISPR Gene Effect File"
   ]
  },
  {
   "cell_type": "code",
   "execution_count": 63,
   "id": "958f3ba6",
   "metadata": {},
   "outputs": [
    {
     "name": "stdout",
     "output_type": "stream",
     "text": [
      "(1100, 18444)\n",
      "\n",
      "\n"
     ]
    },
    {
     "data": {
      "text/html": [
       "<div>\n",
       "<style scoped>\n",
       "    .dataframe tbody tr th:only-of-type {\n",
       "        vertical-align: middle;\n",
       "    }\n",
       "\n",
       "    .dataframe tbody tr th {\n",
       "        vertical-align: top;\n",
       "    }\n",
       "\n",
       "    .dataframe thead th {\n",
       "        text-align: right;\n",
       "    }\n",
       "</style>\n",
       "<table border=\"1\" class=\"dataframe\">\n",
       "  <thead>\n",
       "    <tr style=\"text-align: right;\">\n",
       "      <th></th>\n",
       "      <th>Unnamed: 0</th>\n",
       "      <th>A1BG (1)</th>\n",
       "      <th>A1CF (29974)</th>\n",
       "      <th>A2M (2)</th>\n",
       "      <th>A2ML1 (144568)</th>\n",
       "      <th>A3GALT2 (127550)</th>\n",
       "      <th>A4GALT (53947)</th>\n",
       "      <th>A4GNT (51146)</th>\n",
       "      <th>AAAS (8086)</th>\n",
       "      <th>AACS (65985)</th>\n",
       "      <th>...</th>\n",
       "      <th>ZWILCH (55055)</th>\n",
       "      <th>ZWINT (11130)</th>\n",
       "      <th>ZXDA (7789)</th>\n",
       "      <th>ZXDB (158586)</th>\n",
       "      <th>ZXDC (79364)</th>\n",
       "      <th>ZYG11A (440590)</th>\n",
       "      <th>ZYG11B (79699)</th>\n",
       "      <th>ZYX (7791)</th>\n",
       "      <th>ZZEF1 (23140)</th>\n",
       "      <th>ZZZ3 (26009)</th>\n",
       "    </tr>\n",
       "  </thead>\n",
       "  <tbody>\n",
       "    <tr>\n",
       "      <th>0</th>\n",
       "      <td>ACH-000001</td>\n",
       "      <td>-0.122637</td>\n",
       "      <td>0.025881</td>\n",
       "      <td>0.034217</td>\n",
       "      <td>-0.128082</td>\n",
       "      <td>-0.031285</td>\n",
       "      <td>0.338046</td>\n",
       "      <td>-0.006439</td>\n",
       "      <td>-0.093642</td>\n",
       "      <td>0.189186</td>\n",
       "      <td>...</td>\n",
       "      <td>-0.131727</td>\n",
       "      <td>-0.039829</td>\n",
       "      <td>0.179405</td>\n",
       "      <td>0.283552</td>\n",
       "      <td>0.204513</td>\n",
       "      <td>-0.289724</td>\n",
       "      <td>-0.062972</td>\n",
       "      <td>0.074180</td>\n",
       "      <td>0.111244</td>\n",
       "      <td>-0.467908</td>\n",
       "    </tr>\n",
       "    <tr>\n",
       "      <th>1</th>\n",
       "      <td>ACH-000004</td>\n",
       "      <td>0.019756</td>\n",
       "      <td>-0.083640</td>\n",
       "      <td>-0.060118</td>\n",
       "      <td>-0.027417</td>\n",
       "      <td>-0.036116</td>\n",
       "      <td>-0.001056</td>\n",
       "      <td>0.312876</td>\n",
       "      <td>-0.086897</td>\n",
       "      <td>0.204434</td>\n",
       "      <td>...</td>\n",
       "      <td>-0.170329</td>\n",
       "      <td>-0.454263</td>\n",
       "      <td>0.194583</td>\n",
       "      <td>0.098989</td>\n",
       "      <td>0.126948</td>\n",
       "      <td>0.032983</td>\n",
       "      <td>-0.410392</td>\n",
       "      <td>0.113156</td>\n",
       "      <td>0.234388</td>\n",
       "      <td>-0.088306</td>\n",
       "    </tr>\n",
       "    <tr>\n",
       "      <th>2</th>\n",
       "      <td>ACH-000005</td>\n",
       "      <td>-0.107208</td>\n",
       "      <td>-0.023211</td>\n",
       "      <td>0.200204</td>\n",
       "      <td>0.116039</td>\n",
       "      <td>-0.172227</td>\n",
       "      <td>-0.071294</td>\n",
       "      <td>0.203270</td>\n",
       "      <td>-0.127806</td>\n",
       "      <td>-0.090981</td>\n",
       "      <td>...</td>\n",
       "      <td>-0.301695</td>\n",
       "      <td>-0.454969</td>\n",
       "      <td>-0.061959</td>\n",
       "      <td>-0.036427</td>\n",
       "      <td>0.016602</td>\n",
       "      <td>-0.201273</td>\n",
       "      <td>-0.178877</td>\n",
       "      <td>-0.055349</td>\n",
       "      <td>-0.002161</td>\n",
       "      <td>-0.186842</td>\n",
       "    </tr>\n",
       "    <tr>\n",
       "      <th>3</th>\n",
       "      <td>ACH-000007</td>\n",
       "      <td>-0.031027</td>\n",
       "      <td>-0.137850</td>\n",
       "      <td>0.067704</td>\n",
       "      <td>0.107988</td>\n",
       "      <td>0.007992</td>\n",
       "      <td>0.124945</td>\n",
       "      <td>0.049548</td>\n",
       "      <td>-0.220824</td>\n",
       "      <td>-0.165669</td>\n",
       "      <td>...</td>\n",
       "      <td>-0.303390</td>\n",
       "      <td>-0.507272</td>\n",
       "      <td>-0.025400</td>\n",
       "      <td>0.236659</td>\n",
       "      <td>0.072010</td>\n",
       "      <td>-0.100344</td>\n",
       "      <td>-0.462160</td>\n",
       "      <td>-0.001555</td>\n",
       "      <td>-0.325964</td>\n",
       "      <td>-0.486660</td>\n",
       "    </tr>\n",
       "    <tr>\n",
       "      <th>4</th>\n",
       "      <td>ACH-000009</td>\n",
       "      <td>0.008888</td>\n",
       "      <td>-0.146566</td>\n",
       "      <td>0.084471</td>\n",
       "      <td>0.089419</td>\n",
       "      <td>0.065109</td>\n",
       "      <td>0.027841</td>\n",
       "      <td>0.087943</td>\n",
       "      <td>-0.161369</td>\n",
       "      <td>0.041121</td>\n",
       "      <td>...</td>\n",
       "      <td>-0.255466</td>\n",
       "      <td>-0.288739</td>\n",
       "      <td>-0.037132</td>\n",
       "      <td>0.261444</td>\n",
       "      <td>-0.062391</td>\n",
       "      <td>-0.112703</td>\n",
       "      <td>-0.598698</td>\n",
       "      <td>0.095877</td>\n",
       "      <td>-0.026742</td>\n",
       "      <td>-0.320759</td>\n",
       "    </tr>\n",
       "  </tbody>\n",
       "</table>\n",
       "<p>5 rows × 18444 columns</p>\n",
       "</div>"
      ],
      "text/plain": [
       "   Unnamed: 0  A1BG (1)  A1CF (29974)   A2M (2)  A2ML1 (144568)  \\\n",
       "0  ACH-000001 -0.122637      0.025881  0.034217       -0.128082   \n",
       "1  ACH-000004  0.019756     -0.083640 -0.060118       -0.027417   \n",
       "2  ACH-000005 -0.107208     -0.023211  0.200204        0.116039   \n",
       "3  ACH-000007 -0.031027     -0.137850  0.067704        0.107988   \n",
       "4  ACH-000009  0.008888     -0.146566  0.084471        0.089419   \n",
       "\n",
       "   A3GALT2 (127550)  A4GALT (53947)  A4GNT (51146)  AAAS (8086)  AACS (65985)  \\\n",
       "0         -0.031285        0.338046      -0.006439    -0.093642      0.189186   \n",
       "1         -0.036116       -0.001056       0.312876    -0.086897      0.204434   \n",
       "2         -0.172227       -0.071294       0.203270    -0.127806     -0.090981   \n",
       "3          0.007992        0.124945       0.049548    -0.220824     -0.165669   \n",
       "4          0.065109        0.027841       0.087943    -0.161369      0.041121   \n",
       "\n",
       "   ...  ZWILCH (55055)  ZWINT (11130)  ZXDA (7789)  ZXDB (158586)  \\\n",
       "0  ...       -0.131727      -0.039829     0.179405       0.283552   \n",
       "1  ...       -0.170329      -0.454263     0.194583       0.098989   \n",
       "2  ...       -0.301695      -0.454969    -0.061959      -0.036427   \n",
       "3  ...       -0.303390      -0.507272    -0.025400       0.236659   \n",
       "4  ...       -0.255466      -0.288739    -0.037132       0.261444   \n",
       "\n",
       "   ZXDC (79364)  ZYG11A (440590)  ZYG11B (79699)  ZYX (7791)  ZZEF1 (23140)  \\\n",
       "0      0.204513        -0.289724       -0.062972    0.074180       0.111244   \n",
       "1      0.126948         0.032983       -0.410392    0.113156       0.234388   \n",
       "2      0.016602        -0.201273       -0.178877   -0.055349      -0.002161   \n",
       "3      0.072010        -0.100344       -0.462160   -0.001555      -0.325964   \n",
       "4     -0.062391        -0.112703       -0.598698    0.095877      -0.026742   \n",
       "\n",
       "   ZZZ3 (26009)  \n",
       "0     -0.467908  \n",
       "1     -0.088306  \n",
       "2     -0.186842  \n",
       "3     -0.486660  \n",
       "4     -0.320759  \n",
       "\n",
       "[5 rows x 18444 columns]"
      ]
     },
     "execution_count": 63,
     "metadata": {},
     "output_type": "execute_result"
    }
   ],
   "source": [
    "print (crispr_dataframe.shape)\n",
    "print (\"\")\n",
    "print (\"\")\n",
    "crispr_dataframe.head(5)"
   ]
  },
  {
   "cell_type": "code",
   "execution_count": 64,
   "id": "cd2bd9ab",
   "metadata": {},
   "outputs": [],
   "source": [
    "# Get List of the Headers\n",
    "column_headers = crispr_dataframe.columns.tolist()\n",
    "#print (column_headers)\n",
    "\n",
    "crispr_genes = column_headers[1:]\n",
    "#print (crispr_genes)"
   ]
  },
  {
   "cell_type": "markdown",
   "id": "4dc50b3e",
   "metadata": {},
   "source": [
    "# Examine CRISPR Gene Variance"
   ]
  },
  {
   "cell_type": "code",
   "execution_count": 65,
   "id": "45c58583",
   "metadata": {},
   "outputs": [
    {
     "name": "stdout",
     "output_type": "stream",
     "text": [
      "A1BG (1)            0.010899\n",
      "A1CF (29974)        0.011160\n",
      "A2M (2)             0.009393\n",
      "A2ML1 (144568)      0.009988\n",
      "A3GALT2 (127550)    0.015312\n",
      "                      ...   \n",
      "ZYG11A (440590)     0.009609\n",
      "ZYG11B (79699)      0.016723\n",
      "ZYX (7791)          0.016104\n",
      "ZZEF1 (23140)       0.013737\n",
      "ZZZ3 (26009)        0.028630\n",
      "Length: 18443, dtype: float64\n"
     ]
    },
    {
     "name": "stderr",
     "output_type": "stream",
     "text": [
      "C:\\Users\\mjtom\\AppData\\Local\\Temp\\ipykernel_16936\\715259853.py:1: FutureWarning: The default value of numeric_only in DataFrame.var is deprecated. In a future version, it will default to False. In addition, specifying 'numeric_only=None' is deprecated. Select only valid columns or specify the value of numeric_only to silence this warning.\n",
      "  variance_results = crispr_dataframe.var()\n"
     ]
    }
   ],
   "source": [
    "variance_results = crispr_dataframe.var()\n",
    "variance_results.to_csv(\"CRISPR_Gene_Effect_Variance.csv\")\n",
    "\n",
    "print (variance_results)"
   ]
  },
  {
   "cell_type": "markdown",
   "id": "555312da",
   "metadata": {},
   "source": [
    "# Examine Histogram Spread of Data---Variance\n",
    "Identify is there a good cut-off for variance--- remove extra features from the ML model"
   ]
  },
  {
   "cell_type": "code",
   "execution_count": 66,
   "id": "9129712e",
   "metadata": {},
   "outputs": [
    {
     "data": {
      "image/png": "[encoded data removed]",
      "text/plain": [
       "<Figure size 640x480 with 1 Axes>"
      ]
     },
     "metadata": {},
     "output_type": "display_data"
    }
   ],
   "source": [
    "# Read the CSV file into a DataFrame\n",
    "variance_df = pd.read_csv('CRISPR_Gene_Effect_Variance.csv')\n",
    "\n",
    "# Plot a histogram of a single column in the DataFrame\n",
    "variance_df.hist(column='0')\n",
    "\n",
    "# Set the title and axis labels\n",
    "plt.title('Histogram of Column Name')\n",
    "plt.xlabel('Values')\n",
    "plt.ylabel('Frequency')\n",
    "\n",
    "# Display the histogram\n",
    "plt.show()"
   ]
  },
  {
   "cell_type": "code",
   "execution_count": 67,
   "id": "08b10a77",
   "metadata": {},
   "outputs": [
    {
     "data": {
      "image/png": "[encoded data removed]",
      "text/plain": [
       "<Figure size 640x480 with 1 Axes>"
      ]
     },
     "metadata": {},
     "output_type": "display_data"
    }
   ],
   "source": [
    "# Read the CSV file into a DataFrame\n",
    "variance_df = pd.read_csv('CRISPR_Gene_Effect_Variance.csv')\n",
    "\n",
    "# Plot a histogram of a single column in the DataFrame\n",
    "variance_df.hist(column='0', range=[0, 0.04])\n",
    "\n",
    "# Set the title and axis labels\n",
    "plt.title('Histogram of Column Name')\n",
    "plt.xlabel('Values')\n",
    "plt.ylabel('Frequency')\n",
    "\n",
    "# Display the histogram\n",
    "plt.show()"
   ]
  },
  {
   "cell_type": "code",
   "execution_count": 68,
   "id": "9f505045",
   "metadata": {},
   "outputs": [
    {
     "data": {
      "image/png": "[encoded data removed]",
      "text/plain": [
       "<Figure size 640x480 with 1 Axes>"
      ]
     },
     "metadata": {},
     "output_type": "display_data"
    }
   ],
   "source": [
    "# Read the CSV file into a DataFrame\n",
    "variance_df = pd.read_csv('CRISPR_Gene_Effect_Variance.csv')\n",
    "\n",
    "# Plot a histogram of a single column in the DataFrame\n",
    "variance_df.hist(column='0', range=[0, 0.02])\n",
    "\n",
    "# Set the title and axis labels\n",
    "plt.title('Histogram of Column Name')\n",
    "plt.xlabel('Values')\n",
    "plt.ylabel('Frequency')\n",
    "\n",
    "# Display the histogram\n",
    "plt.show()"
   ]
  },
  {
   "cell_type": "markdown",
   "id": "e738a240",
   "metadata": {},
   "source": [
    "Based on the histogram data spread there appears to be a pile up below 0.02 for variance-- will filter values below this--"
   ]
  },
  {
   "cell_type": "markdown",
   "id": "cee1b094",
   "metadata": {},
   "source": [
    "# Find ALL Genes With Low Variance <0.02"
   ]
  },
  {
   "cell_type": "code",
   "execution_count": 69,
   "id": "6bd9d376",
   "metadata": {},
   "outputs": [
    {
     "name": "stdout",
     "output_type": "stream",
     "text": [
      "Total Genes Initially: 18443\n",
      "Total Genes with Low Variance: 12926\n"
     ]
    }
   ],
   "source": [
    "# Create a List of Genes to Remove\n",
    "columns_to_remove = []\n",
    "\n",
    "total_genes_initially = len(crispr_genes)\n",
    "print (\"Total Genes Initially: \" + str(total_genes_initially))\n",
    "\n",
    "# Loop Over the Variance Results\n",
    "counter = 0\n",
    "for variance in variance_results:\n",
    "    #print (counter)\n",
    "    gene_name = crispr_genes[counter]\n",
    "    if variance < 0.02:\n",
    "        columns_to_remove.append(gene_name)\n",
    "        counter+=1\n",
    "    else:  \n",
    "        counter+=1\n",
    "#print (columns_to_remove)\n",
    "print (\"Total Genes with Low Variance: \" + str(len(columns_to_remove)))"
   ]
  },
  {
   "cell_type": "markdown",
   "id": "cb14e131",
   "metadata": {},
   "source": [
    "# Filter the CRISPR Data File"
   ]
  },
  {
   "cell_type": "code",
   "execution_count": 70,
   "id": "0bf59103",
   "metadata": {},
   "outputs": [
    {
     "name": "stdout",
     "output_type": "stream",
     "text": [
      "Original Dataframe Shape\n",
      "(1100, 18444)\n",
      "Filtered Dataframe Shape\n",
      "(1100, 5518)\n"
     ]
    }
   ],
   "source": [
    "print (\"Original Dataframe Shape\")\n",
    "print (crispr_dataframe.shape)\n",
    "\n",
    "# Drop the Columns from the Dataframe\n",
    "filt_crispr_dataframe = crispr_dataframe.drop(columns_to_remove, axis=1)\n",
    "print (\"Filtered Dataframe Shape\")\n",
    "print (filt_crispr_dataframe.shape)"
   ]
  },
  {
   "cell_type": "markdown",
   "id": "100a316c",
   "metadata": {},
   "source": [
    "# Remove Columns with NaNs from Gene Effect"
   ]
  },
  {
   "cell_type": "code",
   "execution_count": 71,
   "id": "d05d87e7",
   "metadata": {},
   "outputs": [
    {
     "name": "stdout",
     "output_type": "stream",
     "text": [
      "(1100, 4813)\n"
     ]
    }
   ],
   "source": [
    "filt_crispr_dataframe = filt_crispr_dataframe.dropna(axis=1)\n",
    "\n",
    "print (filt_crispr_dataframe.shape)"
   ]
  },
  {
   "cell_type": "markdown",
   "id": "00127cdf",
   "metadata": {},
   "source": [
    "# Merge Dataframes for ML"
   ]
  },
  {
   "cell_type": "code",
   "execution_count": 72,
   "id": "b3c72f46",
   "metadata": {},
   "outputs": [],
   "source": [
    "merged_dataframe = pd.merge(filt_sample_info, filt_crispr_dataframe, how='inner', left_on='BROAD_ID', \n",
    "                            right_on='Unnamed: 0')\n",
    "\n",
    "merged_dataframe.to_csv(\"Sample_Info_Filt_CRISPR_Gene_Effect.csv\")"
   ]
  },
  {
   "cell_type": "code",
   "execution_count": 73,
   "id": "e38911e9",
   "metadata": {
    "scrolled": true
   },
   "outputs": [
    {
     "name": "stdout",
     "output_type": "stream",
     "text": [
      "(587, 4817)\n",
      "\n",
      "\n"
     ]
    },
    {
     "data": {
      "text/html": [
       "<div>\n",
       "<style scoped>\n",
       "    .dataframe tbody tr th:only-of-type {\n",
       "        vertical-align: middle;\n",
       "    }\n",
       "\n",
       "    .dataframe tbody tr th {\n",
       "        vertical-align: top;\n",
       "    }\n",
       "\n",
       "    .dataframe thead th {\n",
       "        text-align: right;\n",
       "    }\n",
       "</style>\n",
       "<table border=\"1\" class=\"dataframe\">\n",
       "  <thead>\n",
       "    <tr style=\"text-align: right;\">\n",
       "      <th></th>\n",
       "      <th>BROAD_ID</th>\n",
       "      <th>cancer_type</th>\n",
       "      <th>msi_status</th>\n",
       "      <th>Labels</th>\n",
       "      <th>Unnamed: 0</th>\n",
       "      <th>AAAS (8086)</th>\n",
       "      <th>AAMP (14)</th>\n",
       "      <th>AARS1 (16)</th>\n",
       "      <th>AARS2 (57505)</th>\n",
       "      <th>AASDHPPT (60496)</th>\n",
       "      <th>...</th>\n",
       "      <th>ZPR1 (8882)</th>\n",
       "      <th>ZRANB1 (54764)</th>\n",
       "      <th>ZRANB2 (9406)</th>\n",
       "      <th>ZRSR2 (8233)</th>\n",
       "      <th>ZSWIM7 (125150)</th>\n",
       "      <th>ZSWIM8 (23053)</th>\n",
       "      <th>ZW10 (9183)</th>\n",
       "      <th>ZWILCH (55055)</th>\n",
       "      <th>ZWINT (11130)</th>\n",
       "      <th>ZZZ3 (26009)</th>\n",
       "    </tr>\n",
       "  </thead>\n",
       "  <tbody>\n",
       "    <tr>\n",
       "      <th>0</th>\n",
       "      <td>ACH-000532</td>\n",
       "      <td>Colorectal Carcinoma</td>\n",
       "      <td>MSS</td>\n",
       "      <td>0</td>\n",
       "      <td>ACH-000532</td>\n",
       "      <td>-0.104325</td>\n",
       "      <td>-0.933288</td>\n",
       "      <td>-1.820676</td>\n",
       "      <td>-0.372271</td>\n",
       "      <td>-0.050291</td>\n",
       "      <td>...</td>\n",
       "      <td>-1.407207</td>\n",
       "      <td>-0.276755</td>\n",
       "      <td>-0.309801</td>\n",
       "      <td>-1.237339</td>\n",
       "      <td>0.071687</td>\n",
       "      <td>-0.125052</td>\n",
       "      <td>0.041638</td>\n",
       "      <td>-0.133878</td>\n",
       "      <td>-0.671639</td>\n",
       "      <td>-0.186533</td>\n",
       "    </tr>\n",
       "    <tr>\n",
       "      <th>1</th>\n",
       "      <td>ACH-000402</td>\n",
       "      <td>Burkitt's Lymphoma</td>\n",
       "      <td>MSS</td>\n",
       "      <td>0</td>\n",
       "      <td>ACH-000402</td>\n",
       "      <td>-0.067873</td>\n",
       "      <td>-1.336848</td>\n",
       "      <td>-2.005842</td>\n",
       "      <td>-0.472146</td>\n",
       "      <td>-0.276306</td>\n",
       "      <td>...</td>\n",
       "      <td>-1.612893</td>\n",
       "      <td>0.029810</td>\n",
       "      <td>-0.739913</td>\n",
       "      <td>-0.835282</td>\n",
       "      <td>-0.333429</td>\n",
       "      <td>-0.096797</td>\n",
       "      <td>-0.209837</td>\n",
       "      <td>-0.346218</td>\n",
       "      <td>-0.137199</td>\n",
       "      <td>0.092261</td>\n",
       "    </tr>\n",
       "    <tr>\n",
       "      <th>2</th>\n",
       "      <td>ACH-000558</td>\n",
       "      <td>Glioblastoma</td>\n",
       "      <td>MSS</td>\n",
       "      <td>0</td>\n",
       "      <td>ACH-000558</td>\n",
       "      <td>-0.303328</td>\n",
       "      <td>-0.976429</td>\n",
       "      <td>-2.811766</td>\n",
       "      <td>-0.418374</td>\n",
       "      <td>-0.038853</td>\n",
       "      <td>...</td>\n",
       "      <td>-1.016217</td>\n",
       "      <td>0.079685</td>\n",
       "      <td>-0.233773</td>\n",
       "      <td>-0.298043</td>\n",
       "      <td>-0.076725</td>\n",
       "      <td>-0.087534</td>\n",
       "      <td>-0.050400</td>\n",
       "      <td>-0.380405</td>\n",
       "      <td>-0.307326</td>\n",
       "      <td>-0.235414</td>\n",
       "    </tr>\n",
       "    <tr>\n",
       "      <th>3</th>\n",
       "      <td>ACH-000838</td>\n",
       "      <td>Plasma Cell Myeloma</td>\n",
       "      <td>MSS</td>\n",
       "      <td>0</td>\n",
       "      <td>ACH-000838</td>\n",
       "      <td>-0.257031</td>\n",
       "      <td>-1.059695</td>\n",
       "      <td>-2.143211</td>\n",
       "      <td>-0.179661</td>\n",
       "      <td>-0.649330</td>\n",
       "      <td>...</td>\n",
       "      <td>-1.371773</td>\n",
       "      <td>-0.104347</td>\n",
       "      <td>-0.159808</td>\n",
       "      <td>-1.279215</td>\n",
       "      <td>0.082801</td>\n",
       "      <td>-0.380861</td>\n",
       "      <td>-0.295394</td>\n",
       "      <td>-0.262585</td>\n",
       "      <td>-0.782286</td>\n",
       "      <td>-0.215217</td>\n",
       "    </tr>\n",
       "    <tr>\n",
       "      <th>4</th>\n",
       "      <td>ACH-000667</td>\n",
       "      <td>Non-Small Cell Lung Carcinoma</td>\n",
       "      <td>MSS</td>\n",
       "      <td>0</td>\n",
       "      <td>ACH-000667</td>\n",
       "      <td>0.011899</td>\n",
       "      <td>-1.116389</td>\n",
       "      <td>-1.631972</td>\n",
       "      <td>-0.408868</td>\n",
       "      <td>-0.473531</td>\n",
       "      <td>...</td>\n",
       "      <td>-1.156481</td>\n",
       "      <td>-0.153457</td>\n",
       "      <td>-0.613195</td>\n",
       "      <td>-0.885288</td>\n",
       "      <td>-0.122854</td>\n",
       "      <td>-0.031501</td>\n",
       "      <td>0.081113</td>\n",
       "      <td>-0.067789</td>\n",
       "      <td>-0.732440</td>\n",
       "      <td>-0.519676</td>\n",
       "    </tr>\n",
       "  </tbody>\n",
       "</table>\n",
       "<p>5 rows × 4817 columns</p>\n",
       "</div>"
      ],
      "text/plain": [
       "     BROAD_ID                    cancer_type msi_status  Labels  Unnamed: 0  \\\n",
       "0  ACH-000532           Colorectal Carcinoma        MSS       0  ACH-000532   \n",
       "1  ACH-000402             Burkitt's Lymphoma        MSS       0  ACH-000402   \n",
       "2  ACH-000558                   Glioblastoma        MSS       0  ACH-000558   \n",
       "3  ACH-000838            Plasma Cell Myeloma        MSS       0  ACH-000838   \n",
       "4  ACH-000667  Non-Small Cell Lung Carcinoma        MSS       0  ACH-000667   \n",
       "\n",
       "   AAAS (8086)  AAMP (14)  AARS1 (16)  AARS2 (57505)  AASDHPPT (60496)  ...  \\\n",
       "0    -0.104325  -0.933288   -1.820676      -0.372271         -0.050291  ...   \n",
       "1    -0.067873  -1.336848   -2.005842      -0.472146         -0.276306  ...   \n",
       "2    -0.303328  -0.976429   -2.811766      -0.418374         -0.038853  ...   \n",
       "3    -0.257031  -1.059695   -2.143211      -0.179661         -0.649330  ...   \n",
       "4     0.011899  -1.116389   -1.631972      -0.408868         -0.473531  ...   \n",
       "\n",
       "   ZPR1 (8882)  ZRANB1 (54764)  ZRANB2 (9406)  ZRSR2 (8233)  ZSWIM7 (125150)  \\\n",
       "0    -1.407207       -0.276755      -0.309801     -1.237339         0.071687   \n",
       "1    -1.612893        0.029810      -0.739913     -0.835282        -0.333429   \n",
       "2    -1.016217        0.079685      -0.233773     -0.298043        -0.076725   \n",
       "3    -1.371773       -0.104347      -0.159808     -1.279215         0.082801   \n",
       "4    -1.156481       -0.153457      -0.613195     -0.885288        -0.122854   \n",
       "\n",
       "   ZSWIM8 (23053)  ZW10 (9183)  ZWILCH (55055)  ZWINT (11130)  ZZZ3 (26009)  \n",
       "0       -0.125052     0.041638       -0.133878      -0.671639     -0.186533  \n",
       "1       -0.096797    -0.209837       -0.346218      -0.137199      0.092261  \n",
       "2       -0.087534    -0.050400       -0.380405      -0.307326     -0.235414  \n",
       "3       -0.380861    -0.295394       -0.262585      -0.782286     -0.215217  \n",
       "4       -0.031501     0.081113       -0.067789      -0.732440     -0.519676  \n",
       "\n",
       "[5 rows x 4817 columns]"
      ]
     },
     "execution_count": 73,
     "metadata": {},
     "output_type": "execute_result"
    }
   ],
   "source": [
    "print (merged_dataframe.shape)\n",
    "print (\"\")\n",
    "print (\"\")\n",
    "merged_dataframe.head(5)"
   ]
  },
  {
   "cell_type": "markdown",
   "id": "f10e8a5b",
   "metadata": {},
   "source": [
    "# See what MSS VS MSI Counts Are Now"
   ]
  },
  {
   "cell_type": "code",
   "execution_count": 74,
   "id": "08bacf57",
   "metadata": {},
   "outputs": [
    {
     "data": {
      "text/plain": [
       "MSS    534\n",
       "MSI     53\n",
       "Name: msi_status, dtype: int64"
      ]
     },
     "execution_count": 74,
     "metadata": {},
     "output_type": "execute_result"
    }
   ],
   "source": [
    "merged_dataframe['msi_status'].value_counts()"
   ]
  },
  {
   "cell_type": "markdown",
   "id": "40fec1ae",
   "metadata": {},
   "source": [
    "Warning--- MSI Status is Extremely Low--- So Model Will Struggle A lot with the Bias"
   ]
  },
  {
   "cell_type": "markdown",
   "id": "d6c4fcfd",
   "metadata": {},
   "source": [
    "# Get the Features and Target from the Dataframe"
   ]
  },
  {
   "cell_type": "code",
   "execution_count": 75,
   "id": "95f557e1",
   "metadata": {},
   "outputs": [
    {
     "name": "stdout",
     "output_type": "stream",
     "text": [
      "0      0\n",
      "1      0\n",
      "2      0\n",
      "3      0\n",
      "4      0\n",
      "      ..\n",
      "582    0\n",
      "583    0\n",
      "584    1\n",
      "585    0\n",
      "586    0\n",
      "Name: Labels, Length: 587, dtype: int64\n",
      "\n",
      "\n",
      "The number of features are: 4812\n"
     ]
    }
   ],
   "source": [
    "# Get List of the Headers\n",
    "column_headers = merged_dataframe.columns.tolist()\n",
    "#print (column_headers)\n",
    "feature_columns = column_headers[5:]\n",
    "#print (feature_columns)\n",
    "\n",
    "\n",
    "y = merged_dataframe['Labels']\n",
    "print (y)\n",
    "print (\"\")\n",
    "print (\"\")\n",
    "\n",
    "X = merged_dataframe[feature_columns]\n",
    "#print (X)\n",
    "print (\"The number of features are: \" + str(len(feature_columns)))"
   ]
  },
  {
   "cell_type": "markdown",
   "id": "be767650",
   "metadata": {},
   "source": [
    "# Create the Train Test Datasets\n",
    "\n",
    "Turn on the Stratify Setting Because of the Class Imbalance Between Groups"
   ]
  },
  {
   "cell_type": "code",
   "execution_count": 88,
   "id": "ff6fa763",
   "metadata": {},
   "outputs": [
    {
     "name": "stdout",
     "output_type": "stream",
     "text": [
      "Done Setting Up Train Test Dataset\n"
     ]
    }
   ],
   "source": [
    "# i.e. 70 % training dataset and 30 % test datasets\n",
    "X_train, X_test, y_train, y_test = train_test_split(X, y, test_size = 0.5, stratify=y, random_state=42)\n",
    "print (\"Done Setting Up Train Test Dataset\")"
   ]
  },
  {
   "cell_type": "code",
   "execution_count": 89,
   "id": "302f632c",
   "metadata": {},
   "outputs": [
    {
     "name": "stdout",
     "output_type": "stream",
     "text": [
      "\n",
      "ACCURACY OF THE MODEL: 0.9081632653061225\n"
     ]
    }
   ],
   "source": [
    "\n",
    "# creating a RF classifier\n",
    "clf = RandomForestClassifier(n_estimators = 100)  \n",
    " \n",
    "# Training the model on the training dataset\n",
    "# fit function is used to train the model using the training sets as parameters\n",
    "clf.fit(X_train, y_train)\n",
    " \n",
    "# performing predictions on the test dataset\n",
    "y_pred = clf.predict(X_test)\n",
    " \n",
    "# metrics are used to find accuracy or error\n",
    "from sklearn import metrics  \n",
    "print()\n",
    " \n",
    "# using metrics module for accuracy calculation\n",
    "print(\"ACCURACY OF THE MODEL:\", metrics.accuracy_score(y_test, y_pred))"
   ]
  },
  {
   "cell_type": "markdown",
   "id": "f996ae48",
   "metadata": {},
   "source": [
    "# Grid Search"
   ]
  },
  {
   "cell_type": "code",
   "execution_count": 90,
   "id": "e3e391ee",
   "metadata": {},
   "outputs": [
    {
     "name": "stdout",
     "output_type": "stream",
     "text": [
      "{'n_estimators': [50, 75, 100, 200, 300, 400, 500], 'max_depth': [3, 5, 7, 10, 15, 20]}\n"
     ]
    }
   ],
   "source": [
    "param_grid = {\n",
    "    'n_estimators': [50, 75, 100, 200, 300, 400, 500],\n",
    "    'max_depth': [3, 5, 7, 10, 15, 20],\n",
    "}\n",
    "\n",
    "print (param_grid)"
   ]
  },
  {
   "cell_type": "code",
   "execution_count": 91,
   "id": "990f3431",
   "metadata": {},
   "outputs": [
    {
     "name": "stdout",
     "output_type": "stream",
     "text": [
      "Running Random Forest with Grid Search\n",
      "Done Running Grid Search\n"
     ]
    }
   ],
   "source": [
    "print (\"Running Random Forest with Grid Search\")\n",
    "\n",
    "rfc=RandomForestClassifier(random_state=42)\n",
    "\n",
    "CV_rfc = GridSearchCV(estimator=rfc, param_grid=param_grid, cv=5)\n",
    "CV_rfc.fit(X_train, y_train)\n",
    "print (\"Done Running Grid Search\")"
   ]
  },
  {
   "cell_type": "code",
   "execution_count": 92,
   "id": "831678b4",
   "metadata": {
    "scrolled": true
   },
   "outputs": [
    {
     "data": {
      "text/plain": [
       "{'max_depth': 3, 'n_estimators': 50}"
      ]
     },
     "execution_count": 92,
     "metadata": {},
     "output_type": "execute_result"
    }
   ],
   "source": [
    "CV_rfc.best_params_"
   ]
  },
  {
   "cell_type": "code",
   "execution_count": 93,
   "id": "8c083df8",
   "metadata": {},
   "outputs": [
    {
     "name": "stdout",
     "output_type": "stream",
     "text": [
      "Best Max Grid Depth: 3\n",
      "Best Grid Estimator: 50\n"
     ]
    }
   ],
   "source": [
    "best_max_grid_depth = (CV_rfc.best_params_['max_depth'])\n",
    "best_n_grid_estimators = (CV_rfc.best_params_['n_estimators'])\n",
    "\n",
    "print (\"Best Max Grid Depth: \" + str(best_max_grid_depth))\n",
    "print (\"Best Grid Estimator: \" + str(best_n_grid_estimators))"
   ]
  },
  {
   "cell_type": "markdown",
   "id": "03889555",
   "metadata": {},
   "source": [
    "# Running the Random Forest with Best Parameters"
   ]
  },
  {
   "cell_type": "code",
   "execution_count": 171,
   "id": "60416cee",
   "metadata": {},
   "outputs": [
    {
     "name": "stdout",
     "output_type": "stream",
     "text": [
      "\n",
      "ACCURACY OF THE MODEL: 0.9081632653061225\n"
     ]
    }
   ],
   "source": [
    "# creating a RF classifier\n",
    "clf = RandomForestClassifier(n_estimators=best_n_grid_estimators, max_depth=best_max_grid_depth )  \n",
    " \n",
    "# Training the model on the training dataset\n",
    "# fit function is used to train the model using the training sets as parameters\n",
    "clf.fit(X_train, y_train)\n",
    " \n",
    "# performing predictions on the test dataset\n",
    "y_pred = clf.predict(X_test)\n",
    " \n",
    "# metrics are used to find accuracy or error\n",
    "from sklearn import metrics  \n",
    "print()\n",
    " \n",
    "# using metrics module for accuracy calculation\n",
    "print(\"ACCURACY OF THE MODEL:\", metrics.accuracy_score(y_test, y_pred))"
   ]
  },
  {
   "cell_type": "code",
   "execution_count": 172,
   "id": "d5332d94",
   "metadata": {},
   "outputs": [
    {
     "data": {
      "text/plain": [
       "MIS18BP1 (55320)     0.019459\n",
       "UFL1 (23376)         0.017650\n",
       "RAD50 (10111)        0.013407\n",
       "WRN (7486)           0.013237\n",
       "SRRT (51593)         0.012902\n",
       "FOXRED1 (55572)      0.012161\n",
       "SRP19 (6728)         0.009968\n",
       "BCLAF1 (9774)        0.009789\n",
       "PPL (5493)           0.009555\n",
       "IPO7 (10527)         0.009553\n",
       "POU2F3 (25833)       0.009448\n",
       "MEF2B (100271849)    0.009257\n",
       "MCMBP (79892)        0.008795\n",
       "INPP4A (3631)        0.008433\n",
       "MARS2 (92935)        0.008405\n",
       "H4C9 (8294)          0.008291\n",
       "KIF20B (9585)        0.008194\n",
       "RPL22L1 (200916)     0.007899\n",
       "ASCC3 (10973)        0.007881\n",
       "CEP350 (9857)        0.007810\n",
       "SPOUT1 (51490)       0.007772\n",
       "RPRD1B (58490)       0.007541\n",
       "NT5C (30833)         0.007397\n",
       "PIK3CD (5293)        0.007332\n",
       "GZMB (3002)          0.007230\n",
       "dtype: float64"
      ]
     },
     "execution_count": 172,
     "metadata": {},
     "output_type": "execute_result"
    }
   ],
   "source": [
    "# Examine Feature Importance\n",
    "\n",
    "# Create a series containing feature importances from the model and feature names from the training data\n",
    "feature_importances = pd.Series(clf.feature_importances_, index=X_train.columns).sort_values(ascending=False)\n",
    "feature_importances.head(25)"
   ]
  },
  {
   "cell_type": "markdown",
   "id": "33488ee2",
   "metadata": {},
   "source": [
    "# Evaluate the Model Using a Confusion Matrix"
   ]
  },
  {
   "cell_type": "code",
   "execution_count": 98,
   "id": "828f392f",
   "metadata": {},
   "outputs": [
    {
     "data": {
      "image/png": "[encoded data removed]",
      "text/plain": [
       "<Figure size 640x480 with 2 Axes>"
      ]
     },
     "metadata": {},
     "output_type": "display_data"
    }
   ],
   "source": [
    "# Generate predictions with the best model\n",
    "y_pred = clf.predict(X_test)\n",
    "\n",
    "# Create the confusion matrix\n",
    "cm = confusion_matrix(y_test, y_pred)\n",
    "\n",
    "\n",
    "ConfusionMatrixDisplay(confusion_matrix=cm).plot();"
   ]
  },
  {
   "cell_type": "markdown",
   "id": "678e4dd2",
   "metadata": {},
   "source": [
    "# Finding the Specificity and Sensitivity"
   ]
  },
  {
   "cell_type": "code",
   "execution_count": 99,
   "id": "3f1290ab",
   "metadata": {},
   "outputs": [
    {
     "name": "stdout",
     "output_type": "stream",
     "text": [
      "Sensitivity is: 90.81632653061224\n",
      "Specificity is: nan\n"
     ]
    },
    {
     "name": "stderr",
     "output_type": "stream",
     "text": [
      "C:\\Users\\mjtom\\AppData\\Local\\Temp\\ipykernel_16936\\3157361007.py:14: RuntimeWarning: invalid value encountered in longlong_scalars\n",
      "  specificity = true_negative / (false_positive + true_negative) * 100\n"
     ]
    }
   ],
   "source": [
    "# Break Apart the Confusion Matrix To Get Values of Interest\n",
    "true_positive = cm[0][0]\n",
    "#print (true_positive)\n",
    "false_positive = cm[0][1]\n",
    "#print (false_positive)\n",
    "false_negative = cm[1][0]\n",
    "#print (false_negative)\n",
    "true_negative = cm[1][1]\n",
    "#print (true_negative)\n",
    "\n",
    "sensitivity = true_positive / (true_positive + false_negative) * 100\n",
    "#print (sensitivity)\n",
    "\n",
    "specificity = true_negative / (false_positive + true_negative) * 100\n",
    "\n",
    "print (\"Sensitivity is: \" + str(sensitivity))\n",
    "print (\"Specificity is: \" + str(specificity))"
   ]
  },
  {
   "cell_type": "markdown",
   "id": "1a263e5e",
   "metadata": {},
   "source": [
    "# Calculate ROC AUC"
   ]
  },
  {
   "cell_type": "code",
   "execution_count": 101,
   "id": "ca65f7fd",
   "metadata": {},
   "outputs": [],
   "source": [
    "# Get predicted class probabilities for the test set \n",
    "y_pred_prob = clf.predict_proba(X_test)[:, 1] "
   ]
  },
  {
   "cell_type": "code",
   "execution_count": 102,
   "id": "685962fc",
   "metadata": {},
   "outputs": [],
   "source": [
    "\n",
    "# Compute the false positive rate (FPR)  \n",
    "# and true positive rate (TPR) for different classification thresholds \n",
    "fpr, tpr, thresholds = roc_curve(y_test, y_pred_prob, pos_label=1)"
   ]
  },
  {
   "cell_type": "code",
   "execution_count": 103,
   "id": "5b45ca30",
   "metadata": {},
   "outputs": [
    {
     "data": {
      "text/plain": [
       "0.7346372589818283"
      ]
     },
     "execution_count": 103,
     "metadata": {},
     "output_type": "execute_result"
    }
   ],
   "source": [
    "# Compute the ROC AUC score \n",
    "roc_auc = roc_auc_score(y_test, y_pred_prob) \n",
    "roc_auc"
   ]
  },
  {
   "cell_type": "code",
   "execution_count": 104,
   "id": "0c473246",
   "metadata": {},
   "outputs": [
    {
     "data": {
      "image/png": "[encoded data removed]",
      "text/plain": [
       "<Figure size 640x480 with 1 Axes>"
      ]
     },
     "metadata": {},
     "output_type": "display_data"
    }
   ],
   "source": [
    "# Plot the ROC curve \n",
    "plt.plot(fpr, tpr, label='ROC curve (area = %0.2f)' % roc_auc) \n",
    "# roc curve for tpr = fpr  \n",
    "plt.plot([0, 1], [0, 1], 'k--', label='Random classifier') \n",
    "plt.xlabel('False Positive Rate') \n",
    "plt.ylabel('True Positive Rate') \n",
    "plt.title('ROC Curve') \n",
    "plt.legend(loc=\"lower right\") \n",
    "plt.show()"
   ]
  },
  {
   "cell_type": "markdown",
   "id": "8d09880b",
   "metadata": {},
   "source": [
    "# Overall Model Looks Decent--- Downfall is Sparsity of MSI Status\n",
    "Goal is to re-run the model 10 times and determine the average of the features"
   ]
  },
  {
   "cell_type": "markdown",
   "id": "6d64dfe4",
   "metadata": {},
   "source": [
    "# Creating Random States"
   ]
  },
  {
   "cell_type": "code",
   "execution_count": 108,
   "id": "60b64ab4",
   "metadata": {},
   "outputs": [
    {
     "name": "stdout",
     "output_type": "stream",
     "text": [
      "[40, 41, 42, 43, 44, 45, 46, 47, 48, 49]\n",
      "Total Numbers: 10\n"
     ]
    }
   ],
   "source": [
    "# Creating a List of Random States to Build the Models\n",
    "random_state_values = [*range(40, 50, 1)] \n",
    "print (random_state_values)\n",
    "print (\"Total Numbers: \" + str(len(random_state_values)))\n"
   ]
  },
  {
   "cell_type": "code",
   "execution_count": null,
   "id": "189f2bac",
   "metadata": {},
   "outputs": [],
   "source": []
  },
  {
   "cell_type": "code",
   "execution_count": null,
   "id": "2499258f",
   "metadata": {},
   "outputs": [],
   "source": []
  },
  {
   "cell_type": "code",
   "execution_count": 179,
   "id": "9b10a291",
   "metadata": {},
   "outputs": [
    {
     "name": "stdout",
     "output_type": "stream",
     "text": [
      "Random State Value None\n",
      "Done Setting Up Train Test Dataset\n",
      "\n",
      "ACCURACY OF THE MODEL: 0.9081632653061225\n"
     ]
    },
    {
     "data": {
      "text/plain": [
       "IRS2 (8660)          0.019912\n",
       "FAM177A1 (283635)    0.017795\n",
       "MIS18BP1 (55320)     0.015396\n",
       "ZNF22 (7570)         0.014744\n",
       "PELO (53918)         0.012359\n",
       "DYNC1I2 (1781)       0.012262\n",
       "TAF1B (9014)         0.011950\n",
       "ADSL (158)           0.011355\n",
       "RPL22L1 (200916)     0.010959\n",
       "RAD50 (10111)        0.010668\n",
       "dtype: float64"
      ]
     },
     "execution_count": 179,
     "metadata": {},
     "output_type": "execute_result"
    }
   ],
   "source": [
    "random_state_value = np.random.seed(42)\n",
    "print (\"Random State Value \" + str(random_state_value))\n",
    "\n",
    "# i.e. 70 % training dataset and 30 % test datasets\n",
    "#X_train, X_test, y_train, y_test = train_test_split(X, y, test_size = 0.5, stratify=y, random_state=random_state_value)\n",
    "X_train, X_test, y_train, y_test = train_test_split(X, y, test_size = 0.5, stratify=y, random_state=random_state_value)\n",
    "print (\"Done Setting Up Train Test Dataset\")\n",
    "\n",
    "# creating a RF classifier\n",
    "clf = RandomForestClassifier(n_estimators=best_n_grid_estimators, max_depth=best_max_grid_depth )  \n",
    " \n",
    "# Training the model on the training dataset\n",
    "# fit function is used to train the model using the training sets as parameters\n",
    "clf.fit(X_train, y_train)\n",
    " \n",
    "# performing predictions on the test dataset\n",
    "y_pred = clf.predict(X_test)\n",
    " \n",
    "# metrics are used to find accuracy or error\n",
    "from sklearn import metrics  \n",
    "print()\n",
    " \n",
    "# using metrics module for accuracy calculation\n",
    "print(\"ACCURACY OF THE MODEL:\", metrics.accuracy_score(y_test, y_pred))\n",
    "\n",
    "# Examine Feature Importance\n",
    "\n",
    "# Create a series containing feature importances from the model and feature names from the training data\n",
    "feature_importance_run = \"feature_importance_\" + str(random_state_value)\n",
    "feature_importance_run = pd.Series(clf.feature_importances_, index=X_train.columns).sort_values(ascending=False)\n",
    "feature_importance_run.head(10)"
   ]
  },
  {
   "cell_type": "code",
   "execution_count": 181,
   "id": "7f1e64c4",
   "metadata": {},
   "outputs": [
    {
     "name": "stdout",
     "output_type": "stream",
     "text": [
      "Done Setting Up Train Test Dataset\n",
      "\n",
      "ACCURACY OF THE MODEL: 0.9081632653061225\n"
     ]
    },
    {
     "data": {
      "text/plain": [
       "WRN (7486)          0.034515\n",
       "DTX2 (113878)       0.017984\n",
       "TIMM22 (29928)      0.012614\n",
       "DRG1 (4733)         0.011474\n",
       "UQCRQ (27089)       0.010544\n",
       "COPS3 (8533)        0.009846\n",
       "SLC25A33 (84275)    0.009732\n",
       "CCT3 (7203)         0.009648\n",
       "MAP2K1 (5604)       0.009425\n",
       "ENTREP3 (10712)     0.009325\n",
       "dtype: float64"
      ]
     },
     "execution_count": 181,
     "metadata": {},
     "output_type": "execute_result"
    }
   ],
   "source": [
    "random_state_value = np.random.seed(43)\n",
    "\n",
    "# i.e. 70 % training dataset and 30 % test datasets\n",
    "X_train, X_test, y_train, y_test = train_test_split(X, y, test_size = 0.5, stratify=y, random_state=random_state_value)\n",
    "print (\"Done Setting Up Train Test Dataset\")\n",
    "\n",
    "# creating a RF classifier\n",
    "clf = RandomForestClassifier(n_estimators=best_n_grid_estimators, max_depth=best_max_grid_depth )  \n",
    " \n",
    "# Training the model on the training dataset\n",
    "# fit function is used to train the model using the training sets as parameters\n",
    "clf.fit(X_train, y_train)\n",
    " \n",
    "# performing predictions on the test dataset\n",
    "y_pred = clf.predict(X_test)\n",
    " \n",
    "# metrics are used to find accuracy or error\n",
    "from sklearn import metrics  \n",
    "print()\n",
    " \n",
    "# using metrics module for accuracy calculation\n",
    "print(\"ACCURACY OF THE MODEL:\", metrics.accuracy_score(y_test, y_pred))\n",
    "\n",
    "# Examine Feature Importance\n",
    "\n",
    "# Create a series containing feature importances from the model and feature names from the training data\n",
    "feature_importance_run = \"feature_importance_\" + str(random_state_value)\n",
    "feature_importance_run = pd.Series(clf.feature_importances_, index=X_train.columns).sort_values(ascending=False)\n",
    "feature_importance_run.head(10)"
   ]
  },
  {
   "cell_type": "code",
   "execution_count": null,
   "id": "9b10ed54",
   "metadata": {},
   "outputs": [],
   "source": []
  },
  {
   "cell_type": "code",
   "execution_count": null,
   "id": "d43c88f4",
   "metadata": {},
   "outputs": [],
   "source": []
  },
  {
   "cell_type": "code",
   "execution_count": null,
   "id": "b699c144",
   "metadata": {},
   "outputs": [],
   "source": []
  },
  {
   "cell_type": "code",
   "execution_count": null,
   "id": "10443ed7",
   "metadata": {},
   "outputs": [],
   "source": []
  },
  {
   "cell_type": "code",
   "execution_count": null,
   "id": "5c075de6",
   "metadata": {},
   "outputs": [],
   "source": []
  },
  {
   "cell_type": "code",
   "execution_count": null,
   "id": "22ce9a17",
   "metadata": {},
   "outputs": [],
   "source": []
  },
  {
   "cell_type": "code",
   "execution_count": null,
   "id": "4319355c",
   "metadata": {},
   "outputs": [],
   "source": []
  }
 ],
 "metadata": {
  "kernelspec": {
   "display_name": "Python 3 (ipykernel)",
   "language": "python",
   "name": "python3"
  },
  "language_info": {
   "codemirror_mode": {
    "name": "ipython",
    "version": 3
   },
   "file_extension": ".py",
   "mimetype": "text/x-python",
   "name": "python",
   "nbconvert_exporter": "python",
   "pygments_lexer": "ipython3",
   "version": "3.10.9"
  }
 },
 "nbformat": 4,
 "nbformat_minor": 5
}
